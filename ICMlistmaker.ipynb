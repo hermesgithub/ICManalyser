{
 "cells": [
  {
   "cell_type": "code",
   "execution_count": 1,
   "metadata": {
    "collapsed": false
   },
   "outputs": [],
   "source": [
    "import requests\n",
    "import csv \n",
    "from collections import Counter\n",
    "from pandas import *\n",
    "\n",
    "listoffiles=[]\n",
    "listoffilmnames=[]\n",
    "        \n",
    "def is_number(s):\n",
    "    try:\n",
    "        float(s)\n",
    "        return True\n",
    "    except ValueError:\n",
    "        return False \n",
    "    \n",
    "def csvgetter(user,password,*otherusernames):\n",
    "    s=requests.session()  #this is the data that is sent to login to icheckmovies\n",
    "    login_data={'login[username]': user,'login[password]': password,'submit': 'login',} #send the login data\n",
    "    s.post(\"https://www.icheckmovies.com/login/\", data=login_data) #csv link 'r'\n",
    "    usernames_list=list(otherusernames)\n",
    "    usernames_list.append(user)\n",
    "    for item in usernames_list:\n",
    "        url='https://www.icheckmovies.com/movies/checked/?user='+item+'&export'\n",
    "        r=s.get(url)\n",
    "        checklist=r.text\n",
    "        checklist_encode = checklist.encode('utf-8')\n",
    "        filename=item+'_checklist'+'.csv'\n",
    "        file=open(filename, \"w\")\n",
    "        file.write(checklist_encode)\n",
    "        file.close() \n",
    "        listoffiles.append(filename)\n",
    "    numberofusers=str((len(listoffiles)))\n",
    "    \n",
    "def listmaker(username):\n",
    "    filmlist=[]\n",
    "    toplist=[]\n",
    "    mostchecked=[]\n",
    "    csvname=username+\"_checklist.csv\"\n",
    "    csv_reader = csv.reader(open(csvname, \"rb\"), delimiter=';')\n",
    "    for row in csv_reader:\n",
    "        filmlist.append(row[0])\n",
    "        mostcheckednum=row[3]\n",
    "        if is_number(mostcheckednum) is True:\n",
    "            mostcheckednum=int(row[3])\n",
    "        mostchecked.append(mostcheckednum)\n",
    "        toplistnum=row[5]\n",
    "        if is_number(toplistnum) is True:\n",
    "            toplistnum=int(row[5])\n",
    "        toplist.append(toplistnum)        \n",
    "    filmlist.pop(0)\n",
    "    mostchecked.pop(0)\n",
    "    toplist.pop(0)\n",
    "    compiled_dataframe={'title' : filmlist,\n",
    "            'most_checked': mostchecked,\n",
    "            'top_lists': toplist}\n",
    "    userlist=DataFrame(compiled_dataframe)\n",
    "    return(userlist)\n",
    "\n",
    "def multiname(*usernames):\n",
    "    for name in usernames:\n",
    "        listmaker(name)\n",
    "        listoffilmnames.append(filmlist)\n",
    "        print(name)\n",
    "\n",
    "def process_club_list(user_list,others):\n",
    "    merge_frames = others.merge(user_list,on=['title','most_checked'],how='left')\n",
    "    not_same_titles = merge_frames[merge_frames.top_lists_y.isnull()]\n",
    "    del not_same_titles['top_lists_y']\n",
    "    not_same_titles.columns=['most_checked', 'title', 'top_lists']\n",
    "    return(not_same_titles)\n",
    "\n",
    "def isinlist(fromlist,tolist):\n",
    "    fromlist=fromlist['title'].tolist()\n",
    "    tolist=tolist['title'].tolist()\n",
    "    if set(fromlist).issubset(set(tolist)):\n",
    "        return True\n",
    "    else:\n",
    "        return False\n",
    "    \n",
    "def iseven(number):\n",
    "    if number %2==0:\n",
    "        return True\n",
    "    else:\n",
    "        return False\n",
    "\n",
    "def lookupinlist(newtitle):\n",
    "    if newframe.loc[newframe['title'] == newtitle]:\n",
    "        return True\n",
    "    else:\n",
    "        return False\n",
    "\n",
    "def final_table(club_list,length):\n",
    "    by_checked=club_list.sort(['most_checked'],ascending=False)\n",
    "    by_toplists=club_list.sort(['top_lists'],ascending=False)\n",
    "    finaldata=DataFrame(columns=('most_checked','title','top_lists'))\n",
    "    for counter in range(0, length):\n",
    "        if iseven(counter) is True:\n",
    "            rec = by_checked.iloc[[counter/2]]\n",
    "            if counter == 0:\n",
    "                finaldata=finaldata.append(rec,ignore_index=True)\n",
    "            else:\n",
    "                if isinlist(rec,finaldata) is True:\n",
    "                    continue\n",
    "                else:\n",
    "                    finaldata=finaldata.append(rec,ignore_index=True)\n",
    "        else:\n",
    "            rec = by_toplists.iloc[[(counter-1)/2]]\n",
    "            if isinlist(rec,finaldata) is True:\n",
    "                continue\n",
    "            else:\n",
    "                finaldata=finaldata.append(rec,ignore_index=True)\n",
    "    return finaldata\n",
    "\n",
    "\n",
    "def Listmaker_pro(usr1,out,*usrs):\n",
    "    username1=usr1\n",
    "    username2=usrs[0]\n",
    "    username3=usrs[1]\n",
    "    pw=open('password.txt','r')\n",
    "    password=pw.read()\n",
    "    csvgetter(username1,password,username2,username3)\n",
    "    user1_list=listmaker(username1)\n",
    "    user2_list=listmaker(username2)\n",
    "    user3_list=listmaker(username3)\n",
    "    combo_1_2=user1_list.append(user2_list)\n",
    "    seenby_1_2=combo_1_2[combo_1_2.duplicated('title')==True]\n",
    "    combo_1_3=user1_list.append(user3_list)\n",
    "    seenby_1_3=combo_1_3[combo_1_3.duplicated('title')==True]\n",
    "    combo_2_3=user2_list.append(user3_list)\n",
    "    seenby_2_3=combo_2_3[combo_2_3.duplicated('title')==True] \n",
    "    club1_list=process_club_list(user1_list,seenby_2_3) \n",
    "    club2_list=process_club_list(user2_list,seenby_1_3)\n",
    "    club3_list=process_club_list(user3_list,seenby_1_2)\n",
    "    if out == 2:\n",
    "        output=final_table(club2_list,20)\n",
    "    elif out == 3:\n",
    "        output=final_table(club3_list,20)\n",
    "    else:\n",
    "        output=final_table(club1_list,20)        \n",
    "    return output"
   ]
  },
  {
   "cell_type": "code",
   "execution_count": 3,
   "metadata": {
    "collapsed": false
   },
   "outputs": [],
   "source": [
    "listus=Listmaker_pro('Haessar',1,'hermesmovies','James88')"
   ]
  },
  {
   "cell_type": "code",
   "execution_count": 4,
   "metadata": {
    "collapsed": false
   },
   "outputs": [
    {
     "name": "stdout",
     "output_type": "stream",
     "text": [
      "    most_checked                           title  top_lists\n",
      "0          56455                            Léon         18\n",
      "1          52903                      Zombieland          2\n",
      "2          31646                        Magnolia         16\n",
      "3          51959             Night at the Museum          2\n",
      "4          50611                        Rain Man         14\n",
      "5          50581                  Twelve Monkeys         14\n",
      "6          30191                         RoboCop         12\n",
      "7          49562                Meet the Fockers          2\n",
      "8          23337                         Gravity         11\n",
      "9          49507                    Pretty Woman          7\n",
      "10         48732                  Ocean's Twelve          2\n",
      "11          9164                        Election          5\n",
      "12         47035               The Mummy Returns          2\n",
      "13          9312                      Antichrist          5\n",
      "14         44638  How the Grinch Stole Christmas          2\n",
      "15          6202                      Big Hero 6          5\n"
     ]
    }
   ],
   "source": [
    "print(listus)"
   ]
  },
  {
   "cell_type": "code",
   "execution_count": 5,
   "metadata": {
    "collapsed": false
   },
   "outputs": [],
   "source": [
    "nus=listus\n",
    "check=nus.to_html()\n",
    "newone=check.encode('utf-8')"
   ]
  },
  {
   "cell_type": "code",
   "execution_count": 9,
   "metadata": {
    "collapsed": false
   },
   "outputs": [
    {
     "data": {
      "text/plain": [
       "(221, '2.0.0 closing connection l20sm16845047wjw.42 - gsmtp')"
      ]
     },
     "execution_count": 9,
     "metadata": {},
     "output_type": "execute_result"
    }
   ],
   "source": [
    "emailpw=open('emailpw.txt','r')\n",
    "pwdmail=emailpw.read()\n",
    "\n",
    "import smtplib\n",
    "from email.mime.text import MIMEText \n",
    "\n",
    "msg=MIMEText(newone, 'html')\n",
    "fromaddr = 'ICMmovielist@gmail.com'\n",
    "toaddrs  = 'wahhill@gmail.com'\n",
    "\n",
    "\n",
    "username = 'ICMmovielist'\n",
    "\n",
    "server = smtplib.SMTP('smtp.gmail.com:587')\n",
    "server.starttls()\n",
    "server.login(username,pwdmail)\n",
    "server.sendmail(fromaddr, toaddrs, msg.as_string())\n",
    "server.quit() "
   ]
  },
  {
   "cell_type": "code",
   "execution_count": null,
   "metadata": {
    "collapsed": true
   },
   "outputs": [],
   "source": []
  }
 ],
 "metadata": {
  "kernelspec": {
   "display_name": "Python 2",
   "language": "python",
   "name": "python2"
  },
  "language_info": {
   "codemirror_mode": {
    "name": "ipython",
    "version": 2
   },
   "file_extension": ".py",
   "mimetype": "text/x-python",
   "name": "python",
   "nbconvert_exporter": "python",
   "pygments_lexer": "ipython2",
   "version": "2.7.9"
  }
 },
 "nbformat": 4,
 "nbformat_minor": 0
}
