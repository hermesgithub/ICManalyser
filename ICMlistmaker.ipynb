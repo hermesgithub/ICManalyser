{
 "cells": [
  {
   "cell_type": "code",
   "execution_count": 3,
   "metadata": {
    "collapsed": true
   },
   "outputs": [],
   "source": [
    "import requests\n",
    "import csv \n",
    "from collections import Counter\n",
    "from pandas import *"
   ]
  },
  {
   "cell_type": "code",
   "execution_count": 4,
   "metadata": {
    "collapsed": false
   },
   "outputs": [],
   "source": [
    "listoffiles=[]\n",
    "listoffilmnames=[]\n",
    "        \n",
    "def is_number(s):\n",
    "    try:\n",
    "        float(s)\n",
    "        return True\n",
    "    except ValueError:\n",
    "        return False \n",
    "    \n",
    "def csvgetter(user,password,*otherusernames):\n",
    "    s=requests.session()  #this is the data that is sent to login to icheckmovies\n",
    "    login_data={'login[username]': user,'login[password]': password,'submit': 'login',} #send the login data\n",
    "    s.post(\"https://www.icheckmovies.com/login/\", data=login_data) #csv link 'r'\n",
    "    usernames_list=list(otherusernames)\n",
    "    usernames_list.append(user)\n",
    "    for item in usernames_list:\n",
    "        url='https://www.icheckmovies.com/movies/checked/?user='+item+'&export'\n",
    "        r=s.get(url)\n",
    "        checklist=r.text\n",
    "        checklist_encode = checklist.encode('utf-8')\n",
    "        filename=item+'_checklist'+'.csv'\n",
    "        file=open(filename, \"w\")\n",
    "        file.write(checklist_encode)\n",
    "        file.close() \n",
    "        listoffiles.append(filename)\n",
    "    numberofusers=str((len(listoffiles)))\n",
    "    print('There are '+numberofusers+' users in the database: '+'\\n'+'\\n'.join(listoffiles))\n",
    "    \n",
    "def listmaker(username):\n",
    "    filmlist=[]\n",
    "    toplist=[]\n",
    "    mostchecked=[]\n",
    "    csvname=username+\"_checklist.csv\"\n",
    "    csv_reader = csv.reader(open(csvname, \"rb\"), delimiter=';')\n",
    "    for row in csv_reader:\n",
    "        filmlist.append(row[0])\n",
    "        mostcheckednum=row[3]\n",
    "        if is_number(mostcheckednum) is True:\n",
    "            mostcheckednum=int(row[3])\n",
    "        mostchecked.append(mostcheckednum)\n",
    "        toplistnum=row[5]\n",
    "        if is_number(toplistnum) is True:\n",
    "            toplistnum=int(row[5])\n",
    "        toplist.append(toplistnum)        \n",
    "    filmlist.pop(0)\n",
    "    mostchecked.pop(0)\n",
    "    toplist.pop(0)\n",
    "    compiled_dataframe={'title' : filmlist,\n",
    "            'most_checked': mostchecked,\n",
    "            'top_lists': toplist}\n",
    "    userlist=DataFrame(compiled_dataframe)\n",
    "    return(userlist)\n",
    "\n",
    "def multiname(*usernames):\n",
    "    for name in usernames:\n",
    "        listmaker(name)\n",
    "        listoffilmnames.append(filmlist)\n",
    "        print(name)\n",
    "\n",
    "def process_club_list(user_list,others):\n",
    "    merge_frames = others.merge(user_list,on=['title','most_checked'],how='left')\n",
    "    not_same_titles = merge_frames[merge_frames.top_lists_y.isnull()]\n",
    "    del not_same_titles['top_lists_y']\n",
    "    not_same_titles.columns=['most_checked', 'title', 'top_lists']\n",
    "    return(not_same_titles)\n",
    "\n",
    "#this is working on a function that will do everything\n",
    "def Listmaker_pro(usr1,pssword,*usrs):\n",
    "    username1=usr1\n",
    "    username2=usrs[0]\n",
    "    username3=usrs[1]\n",
    "    password=pssword\n",
    "    csvgetter(username1,password,username2,username3)\n",
    "    user1_list=listmaker(username1)\n",
    "    user2_list=listmaker(username2)\n",
    "    user3_list=listmaker(username3)\n",
    "    combo_1_2=user1_list.append(user2_list)\n",
    "    seenby_1_2=combo_1_2[combo_1_2.duplicated('title')==True]\n",
    "    combo_1_3=user1_list.append(user3_list)\n",
    "    seenby_1_3=combo_1_3[combo_1_3.duplicated('title')==True]\n",
    "    combo_2_3=user2_list.append(user3_list)\n",
    "    seenby_2_3=combo_2_3[combo_2_3.duplicated('title')==True] \n",
    "    club1_list = process_club_list(user1_list,seenby_2_3) \n",
    "    club2_list = process_club_list(user2_list,seenby_1_3)\n",
    "    club3_list = process_club_list(user3_list,seenby_1_2)"
   ]
  },
  {
   "cell_type": "code",
   "execution_count": 5,
   "metadata": {
    "collapsed": true
   },
   "outputs": [],
   "source": [
    "username1='Haessar'\n",
    "username2='hermesmovies'\n",
    "username3='James88'\n",
    "password='widmerpool88'"
   ]
  },
  {
   "cell_type": "code",
   "execution_count": 6,
   "metadata": {
    "collapsed": false
   },
   "outputs": [
    {
     "name": "stdout",
     "output_type": "stream",
     "text": [
      "There are 3 users in the database: \n",
      "hermesmovies_checklist.csv\n",
      "James88_checklist.csv\n",
      "Haessar_checklist.csv\n"
     ]
    }
   ],
   "source": [
    "csvgetter(username1,password,username2,username3)"
   ]
  },
  {
   "cell_type": "code",
   "execution_count": 7,
   "metadata": {
    "collapsed": false
   },
   "outputs": [
    {
     "name": "stdout",
     "output_type": "stream",
     "text": [
      "user1 is Haessar, user2 is hermesmovies and user3 is James88, user#_list is a dataframe of each users list\n"
     ]
    }
   ],
   "source": [
    "user1_list=listmaker(username1)\n",
    "user2_list=listmaker(username2)\n",
    "user3_list=listmaker(username3)\n",
    "print(\"user1 is \"+username1+\", user2 is \"+username2+\" and user3 is \"+username3+\", user#_list is a dataframe of each users list\")"
   ]
  },
  {
   "cell_type": "markdown",
   "metadata": {
    "collapsed": false
   },
   "source": [
    "Want to make a list that both james and will have seen that I haven't seen"
   ]
  },
  {
   "cell_type": "code",
   "execution_count": 8,
   "metadata": {
    "collapsed": false
   },
   "outputs": [],
   "source": [
    "#join User 1 and User 2\n",
    "combo_1_2=user1_list.append(user2_list)\n",
    "#return duplicates\n",
    "seenby_1_2=combo_1_2[combo_1_2.duplicated('title')==True]\n",
    "\n",
    "#join User 1 and User 3\n",
    "combo_1_3=user1_list.append(user3_list)\n",
    "seenby_1_3=combo_1_3[combo_1_3.duplicated('title')==True]\n",
    "\n",
    "#join User 2 and User 3\n",
    "combo_2_3=user2_list.append(user3_list)\n",
    "seenby_2_3=combo_2_3[combo_2_3.duplicated('title')==True] \n",
    "\n"
   ]
  },
  {
   "cell_type": "code",
   "execution_count": 9,
   "metadata": {
    "collapsed": false
   },
   "outputs": [],
   "source": [
    "#Club list for User 1:\n",
    "club1_list = process_club_list(user1_list,seenby_2_3) \n",
    "\n",
    "#Club list for User 2:\n",
    "club2_list = process_club_list(user2_list,seenby_1_3)\n",
    "\n",
    "#Club list for User 3:\n",
    "club3_list = process_club_list(user3_list,seenby_1_2)"
   ]
  },
  {
   "cell_type": "markdown",
   "metadata": {},
   "source": [
    "\n",
    "IDEA FOR FINAL LIST. MAKE TWO LISTS, ONE LISTED BY CHECKED AND ONE BY TOPLISTS THEN LOOP APPEND THEM ALTERNATLY TO A NEW LIST, CHECKING EACH LOOP THAT IT IS NOT IN THE LIST ALREADY\n"
   ]
  },
  {
   "cell_type": "code",
   "execution_count": 10,
   "metadata": {
    "collapsed": false
   },
   "outputs": [
    {
     "name": "stdout",
     "output_type": "stream",
     "text": [
      "   most_checked    title  top_lists\n",
      "0         20381  Traffic          6\n",
      "   most_checked        title  top_lists\n",
      "0         20381      Traffic          6\n",
      "1          4447  La pianiste          5\n",
      "   most_checked                        title  top_lists\n",
      "0         20381                      Traffic          6\n",
      "1          4447                  La pianiste          5\n",
      "2          5736  The Texas Chainsaw Massacre          0\n",
      "   most_checked        title  top_lists\n",
      "1          4447  La pianiste          5\n",
      "1          4447  La pianiste          5\n",
      "The Texas Chainsaw Massacre\n"
     ]
    }
   ],
   "source": [
    "by_checked=club2_list.sort(['most_checked'],ascending=False)\n",
    "by_toplists=club2_list.sort(['top_lists'],ascending=False)\n",
    "\n",
    "finaldata=DataFrame(columns=('most_checked','title','top_lists'))\n",
    "listof=Series(club2_list.iloc[1])\n",
    "newframe=finaldata.append(listof,ignore_index=True)\n",
    "print(newframe)\n",
    "listof=Series(club2_list.iloc[4])\n",
    "newframe=newframe.append(listof,ignore_index=True)\n",
    "print(newframe)\n",
    "listof=Series(club2_list.iloc[6])\n",
    "newframe=newframe.append(listof,ignore_index=True)\n",
    "print(newframe)\n",
    "\n",
    "print(newframe.iloc[[1,1]])\n",
    "len(newframe.loc[newframe['title'] == 'Don Jon'])\n",
    "\n",
    "print(listof[1])\n",
    "\n",
    "def isinlist(fromlistof):\n",
    "    if (len(newframe.loc[newframe['title'] == listof[1]])) is 1:\n",
    "        return True\n",
    "    else:\n",
    "        return False\n"
   ]
  },
  {
   "cell_type": "code",
   "execution_count": 49,
   "metadata": {
    "collapsed": false
   },
   "outputs": [
    {
     "name": "stdout",
     "output_type": "stream",
     "text": [
      "     most_checked          title  top_lists\n",
      "277         40273  Sleepy Hollow          3\n"
     ]
    }
   ],
   "source": [
    "counter=3\n",
    "rec=by_checked.iloc[[(counter-1)/2]]\n",
    "print(rec)"
   ]
  },
  {
   "cell_type": "code",
   "execution_count": 67,
   "metadata": {
    "collapsed": false
   },
   "outputs": [],
   "source": [
    "def iseven(number):\n",
    "    if number %2==0:\n",
    "        return True\n",
    "    else:\n",
    "        return False\n",
    "\n",
    "def lookupinlist(newtitle):\n",
    "    if newframe.loc[newframe['title'] == newtitle]:\n",
    "        return True\n",
    "    else:\n",
    "        return False\n",
    "\n",
    "def final_table(username):\n",
    "    by_checked=club1_list.sort(['most_checked'],ascending=False)\n",
    "    by_toplists=club1_list.sort(['top_lists'],ascending=False)\n",
    "    finaldata=DataFrame(columns=('most_checked','title','top_lists'))\n",
    "    for counter in range(0, 10):\n",
    "        #if isinlist(listof[counter]) is False:\n",
    "        if iseven(counter) is True:\n",
    "            rec = by_checked.iloc[[counter/2]]\n",
    "            finaldata=finaldata.append(rec,ignore_index=True)\n",
    "            #print(rec)\n",
    "        else:\n",
    "            rec = by_toplists.iloc[[(counter-1)/2]]\n",
    "            finaldata=finaldata.append(rec,ignore_index=True)\n",
    "            #print(rec)\n",
    "    print(finaldata)\n",
    "    "
   ]
  },
  {
   "cell_type": "code",
   "execution_count": null,
   "metadata": {
    "collapsed": true
   },
   "outputs": [],
   "source": [
    "club2_list.sort(['top_lists','most_checked'],ascending=False)"
   ]
  },
  {
   "cell_type": "code",
   "execution_count": 68,
   "metadata": {
    "collapsed": false
   },
   "outputs": [
    {
     "name": "stdout",
     "output_type": "stream",
     "text": [
      "   most_checked                title  top_lists\n",
      "0         56374                 Léon         18\n",
      "1         56374                 Léon         18\n",
      "2         52834           Zombieland          2\n",
      "3         31617             Magnolia         16\n",
      "4         51906  Night at the Museum          2\n",
      "5         50557             Rain Man         14\n",
      "6         50557             Rain Man         14\n",
      "7         50518       Twelve Monkeys         14\n",
      "8         50518       Twelve Monkeys         14\n",
      "9         30144              RoboCop         12\n"
     ]
    }
   ],
   "source": [
    "final_table(\"Haessar\")"
   ]
  },
  {
   "cell_type": "code",
   "execution_count": null,
   "metadata": {
    "collapsed": true
   },
   "outputs": [],
   "source": []
  }
 ],
 "metadata": {
  "kernelspec": {
   "display_name": "Python 2",
   "language": "python",
   "name": "python2"
  },
  "language_info": {
   "codemirror_mode": {
    "name": "ipython",
    "version": 2
   },
   "file_extension": ".py",
   "mimetype": "text/x-python",
   "name": "python",
   "nbconvert_exporter": "python",
   "pygments_lexer": "ipython2",
   "version": "2.7.9"
  }
 },
 "nbformat": 4,
 "nbformat_minor": 0
}
