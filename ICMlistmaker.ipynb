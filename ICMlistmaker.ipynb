{
 "cells": [
  {
   "cell_type": "code",
   "execution_count": 5,
   "metadata": {
    "collapsed": false
   },
   "outputs": [],
   "source": [
    "import requests\n",
    "import csv \n",
    "from collections import Counter\n",
    "from pandas import *\n",
    "\n",
    "listoffiles=[]\n",
    "listoffilmnames=[]\n",
    "        \n",
    "def is_number(s):\n",
    "    try:\n",
    "        float(s)\n",
    "        return True\n",
    "    except ValueError:\n",
    "        return False \n",
    "    \n",
    "def csvgetter(user,password,*otherusernames):\n",
    "    s=requests.session()  #this is the data that is sent to login to icheckmovies\n",
    "    login_data={'login[username]': user,'login[password]': password,'submit': 'login',} #send the login data\n",
    "    s.post(\"https://www.icheckmovies.com/login/\", data=login_data) #csv link 'r'\n",
    "    usernames_list=list(otherusernames)\n",
    "    usernames_list.append(user)\n",
    "    for item in usernames_list:\n",
    "        url='https://www.icheckmovies.com/movies/checked/?user='+item+'&export'\n",
    "        r=s.get(url)\n",
    "        checklist=r.text\n",
    "        checklist_encode = checklist.encode('utf-8')\n",
    "        filename=item+'_checklist'+'.csv'\n",
    "        file=open(filename, \"w\")\n",
    "        file.write(checklist_encode)\n",
    "        file.close() \n",
    "        listoffiles.append(filename)\n",
    "    numberofusers=str((len(listoffiles)))\n",
    "    print('There are '+numberofusers+' users in the database: '+'\\n'+'\\n'.join(listoffiles))\n",
    "    \n",
    "def listmaker(username):\n",
    "    filmlist=[]\n",
    "    toplist=[]\n",
    "    mostchecked=[]\n",
    "    csvname=username+\"_checklist.csv\"\n",
    "    csv_reader = csv.reader(open(csvname, \"rb\"), delimiter=';')\n",
    "    for row in csv_reader:\n",
    "        filmlist.append(row[0])\n",
    "        mostcheckednum=row[3]\n",
    "        if is_number(mostcheckednum) is True:\n",
    "            mostcheckednum=int(row[3])\n",
    "        mostchecked.append(mostcheckednum)\n",
    "        toplistnum=row[5]\n",
    "        if is_number(toplistnum) is True:\n",
    "            toplistnum=int(row[5])\n",
    "        toplist.append(toplistnum)        \n",
    "    filmlist.pop(0)\n",
    "    mostchecked.pop(0)\n",
    "    toplist.pop(0)\n",
    "    compiled_dataframe={'title' : filmlist,\n",
    "            'most_checked': mostchecked,\n",
    "            'top_lists': toplist}\n",
    "    userlist=DataFrame(compiled_dataframe)\n",
    "    return(userlist)\n",
    "\n",
    "def multiname(*usernames):\n",
    "    for name in usernames:\n",
    "        listmaker(name)\n",
    "        listoffilmnames.append(filmlist)\n",
    "        print(name)\n",
    "\n",
    "def process_club_list(user_list,others):\n",
    "    merge_frames = others.merge(user_list,on=['title','most_checked'],how='left')\n",
    "    not_same_titles = merge_frames[merge_frames.top_lists_y.isnull()]\n",
    "    del not_same_titles['top_lists_y']\n",
    "    not_same_titles.columns=['most_checked', 'title', 'top_lists']\n",
    "    return(not_same_titles)\n",
    "\n",
    "def isinlist(fromlist,tolist):\n",
    "    fromlist=fromlist['title'].tolist()\n",
    "    tolist=tolist['title'].tolist()\n",
    "    if set(fromlist).issubset(set(tolist)):\n",
    "        return True\n",
    "    else:\n",
    "        return False\n",
    "    \n",
    "def iseven(number):\n",
    "    if number %2==0:\n",
    "        return True\n",
    "    else:\n",
    "        return False\n",
    "\n",
    "def lookupinlist(newtitle):\n",
    "    if newframe.loc[newframe['title'] == newtitle]:\n",
    "        return True\n",
    "    else:\n",
    "        return False\n",
    "\n",
    "def final_table(username,length):\n",
    "    by_checked=club1_list.sort(['most_checked'],ascending=False)\n",
    "    by_toplists=club1_list.sort(['top_lists'],ascending=False)\n",
    "    finaldata=DataFrame(columns=('most_checked','title','top_lists'))\n",
    "    for counter in range(0, length):\n",
    "        if iseven(counter) is True:\n",
    "            rec = by_checked.iloc[[counter/2]]\n",
    "            if counter == 0:\n",
    "                finaldata=finaldata.append(rec,ignore_index=True)\n",
    "            else:\n",
    "                if isinlist(rec,finaldata) is True:\n",
    "                    continue\n",
    "                else:\n",
    "                    finaldata=finaldata.append(rec,ignore_index=True)\n",
    "        else:\n",
    "            rec = by_toplists.iloc[[(counter-1)/2]]\n",
    "            if isinlist(rec,finaldata) is True:\n",
    "                continue\n",
    "            else:\n",
    "                finaldata=finaldata.append(rec,ignore_index=True)\n",
    "    return finaldata\n",
    "\n",
    "\n",
    "#this is working on a function that will do everything\n",
    "def Listmaker_pro(usr1,pssword,*usrs):\n",
    "    username1=usr1\n",
    "    username2=usrs[0]\n",
    "    username3=usrs[1]\n",
    "    password=pssword\n",
    "    csvgetter(username1,password,username2,username3)\n",
    "    user1_list=listmaker(username1)\n",
    "    user2_list=listmaker(username2)\n",
    "    user3_list=listmaker(username3)\n",
    "    combo_1_2=user1_list.append(user2_list)\n",
    "    seenby_1_2=combo_1_2[combo_1_2.duplicated('title')==True]\n",
    "    combo_1_3=user1_list.append(user3_list)\n",
    "    seenby_1_3=combo_1_3[combo_1_3.duplicated('title')==True]\n",
    "    combo_2_3=user2_list.append(user3_list)\n",
    "    seenby_2_3=combo_2_3[combo_2_3.duplicated('title')==True] \n",
    "    club1_list=process_club_list(user1_list,seenby_2_3) \n",
    "    club2_list=process_club_list(user2_list,seenby_1_3)\n",
    "    club3_list=process_club_list(user3_list,seenby_1_2)\n",
    "    final_table(usr1,20)"
   ]
  },
  {
   "cell_type": "code",
   "execution_count": 2,
   "metadata": {
    "collapsed": true
   },
   "outputs": [],
   "source": [
    "username1='hermesmovies'\n",
    "username2='Haessar'\n",
    "username3='James88'\n",
    "password=''"
   ]
  },
  {
   "cell_type": "code",
   "execution_count": 3,
   "metadata": {
    "collapsed": false
   },
   "outputs": [
    {
     "name": "stdout",
     "output_type": "stream",
     "text": [
      "There are 3 users in the database: \n",
      "Haessar_checklist.csv\n",
      "James88_checklist.csv\n",
      "hermesmovies_checklist.csv\n"
     ]
    }
   ],
   "source": [
    "csvgetter(username1,password,username2,username3)"
   ]
  },
  {
   "cell_type": "code",
   "execution_count": 4,
   "metadata": {
    "collapsed": false
   },
   "outputs": [
    {
     "name": "stdout",
     "output_type": "stream",
     "text": [
      "user1 is hermesmovies, user2 is Haessar and user3 is James88, user#_list is a dataframe of each users list\n"
     ]
    }
   ],
   "source": [
    "user1_list=listmaker(username1)\n",
    "user2_list=listmaker(username2)\n",
    "user3_list=listmaker(username3)\n",
    "print(\"user1 is \"+username1+\", user2 is \"+username2+\" and user3 is \"+username3+\", user#_list is a dataframe of each users list\")"
   ]
  },
  {
   "cell_type": "code",
   "execution_count": 9,
   "metadata": {
    "collapsed": false
   },
   "outputs": [
    {
     "name": "stdout",
     "output_type": "stream",
     "text": [
      "hermesmovies\n"
     ]
    }
   ],
   "source": [
    "print(username1)"
   ]
  },
  {
   "cell_type": "markdown",
   "metadata": {
    "collapsed": false
   },
   "source": [
    "Want to make a list that both james and will have seen that I haven't seen"
   ]
  },
  {
   "cell_type": "code",
   "execution_count": 10,
   "metadata": {
    "collapsed": false
   },
   "outputs": [],
   "source": [
    "#join User 1 and User 2\n",
    "combo_1_2=user1_list.append(user2_list)\n",
    "#return duplicates\n",
    "seenby_1_2=combo_1_2[combo_1_2.duplicated('title')==True]\n",
    "\n",
    "#join User 1 and User 3\n",
    "combo_1_3=user1_list.append(user3_list)\n",
    "seenby_1_3=combo_1_3[combo_1_3.duplicated('title')==True]\n",
    "\n",
    "#join User 2 and User 3\n",
    "combo_2_3=user2_list.append(user3_list)\n",
    "seenby_2_3=combo_2_3[combo_2_3.duplicated('title')==True] "
   ]
  },
  {
   "cell_type": "code",
   "execution_count": 11,
   "metadata": {
    "collapsed": false
   },
   "outputs": [],
   "source": [
    "#Club list for User 1:\n",
    "club1_list = process_club_list(user1_list,seenby_2_3) \n",
    "\n",
    "#Club list for User 2:\n",
    "club2_list = process_club_list(user2_list,seenby_1_3)\n",
    "\n",
    "#Club list for User 3:\n",
    "club3_list = process_club_list(user3_list,seenby_1_2)"
   ]
  },
  {
   "cell_type": "code",
   "execution_count": 12,
   "metadata": {
    "collapsed": false
   },
   "outputs": [
    {
     "data": {
      "text/html": [
       "<div style=\"max-height:1000px;max-width:1500px;overflow:auto;\">\n",
       "<table border=\"1\" class=\"dataframe\">\n",
       "  <thead>\n",
       "    <tr style=\"text-align: right;\">\n",
       "      <th></th>\n",
       "      <th>most_checked</th>\n",
       "      <th>title</th>\n",
       "      <th>top_lists</th>\n",
       "    </tr>\n",
       "  </thead>\n",
       "  <tbody>\n",
       "    <tr>\n",
       "      <th>0 </th>\n",
       "      <td> 42273</td>\n",
       "      <td>                           Twilight</td>\n",
       "      <td>  1</td>\n",
       "    </tr>\n",
       "    <tr>\n",
       "      <th>1 </th>\n",
       "      <td> 10365</td>\n",
       "      <td>                     The Wicker Man</td>\n",
       "      <td> 12</td>\n",
       "    </tr>\n",
       "    <tr>\n",
       "      <th>2 </th>\n",
       "      <td> 40277</td>\n",
       "      <td>                      Sleepy Hollow</td>\n",
       "      <td>  3</td>\n",
       "    </tr>\n",
       "    <tr>\n",
       "      <th>3 </th>\n",
       "      <td> 15944</td>\n",
       "      <td>                   12 Years a Slave</td>\n",
       "      <td> 12</td>\n",
       "    </tr>\n",
       "    <tr>\n",
       "      <th>4 </th>\n",
       "      <td> 36817</td>\n",
       "      <td>                            Twister</td>\n",
       "      <td>  2</td>\n",
       "    </tr>\n",
       "    <tr>\n",
       "      <th>5 </th>\n",
       "      <td> 35561</td>\n",
       "      <td>                         The Others</td>\n",
       "      <td>  6</td>\n",
       "    </tr>\n",
       "    <tr>\n",
       "      <th>6 </th>\n",
       "      <td> 26309</td>\n",
       "      <td>             Låt den rätte komma in</td>\n",
       "      <td> 12</td>\n",
       "    </tr>\n",
       "    <tr>\n",
       "      <th>7 </th>\n",
       "      <td> 34486</td>\n",
       "      <td>                           Face/Off</td>\n",
       "      <td>  4</td>\n",
       "    </tr>\n",
       "    <tr>\n",
       "      <th>8 </th>\n",
       "      <td>  6585</td>\n",
       "      <td>                       Withnail &amp; I</td>\n",
       "      <td> 11</td>\n",
       "    </tr>\n",
       "    <tr>\n",
       "      <th>9 </th>\n",
       "      <td> 33601</td>\n",
       "      <td> Terminator 3: Rise of the Machines</td>\n",
       "      <td>  1</td>\n",
       "    </tr>\n",
       "    <tr>\n",
       "      <th>10</th>\n",
       "      <td> 22994</td>\n",
       "      <td>                     Eyes Wide Shut</td>\n",
       "      <td> 10</td>\n",
       "    </tr>\n",
       "    <tr>\n",
       "      <th>11</th>\n",
       "      <td> 33495</td>\n",
       "      <td>                           Godzilla</td>\n",
       "      <td>  1</td>\n",
       "    </tr>\n",
       "    <tr>\n",
       "      <th>12</th>\n",
       "      <td> 25662</td>\n",
       "      <td>      The Rocky Horror Picture Show</td>\n",
       "      <td>  9</td>\n",
       "    </tr>\n",
       "    <tr>\n",
       "      <th>13</th>\n",
       "      <td> 31150</td>\n",
       "      <td>                          Zoolander</td>\n",
       "      <td>  3</td>\n",
       "    </tr>\n",
       "    <tr>\n",
       "      <th>14</th>\n",
       "      <td> 20424</td>\n",
       "      <td>                            The Fly</td>\n",
       "      <td>  7</td>\n",
       "    </tr>\n",
       "    <tr>\n",
       "      <th>15</th>\n",
       "      <td> 30597</td>\n",
       "      <td>                            Clerks.</td>\n",
       "      <td>  5</td>\n",
       "    </tr>\n",
       "    <tr>\n",
       "      <th>16</th>\n",
       "      <td> 19953</td>\n",
       "      <td>                     The Full Monty</td>\n",
       "      <td>  7</td>\n",
       "    </tr>\n",
       "    <tr>\n",
       "      <th>17</th>\n",
       "      <td> 30526</td>\n",
       "      <td>                       Total Recall</td>\n",
       "      <td>  7</td>\n",
       "    </tr>\n",
       "    <tr>\n",
       "      <th>18</th>\n",
       "      <td> 25440</td>\n",
       "      <td>                             Carrie</td>\n",
       "      <td>  7</td>\n",
       "    </tr>\n",
       "  </tbody>\n",
       "</table>\n",
       "</div>"
      ],
      "text/plain": [
       "    most_checked                               title  top_lists\n",
       "0          42273                            Twilight          1\n",
       "1          10365                      The Wicker Man         12\n",
       "2          40277                       Sleepy Hollow          3\n",
       "3          15944                    12 Years a Slave         12\n",
       "4          36817                             Twister          2\n",
       "5          35561                          The Others          6\n",
       "6          26309              Låt den rätte komma in         12\n",
       "7          34486                            Face/Off          4\n",
       "8           6585                        Withnail & I         11\n",
       "9          33601  Terminator 3: Rise of the Machines          1\n",
       "10         22994                      Eyes Wide Shut         10\n",
       "11         33495                            Godzilla          1\n",
       "12         25662       The Rocky Horror Picture Show          9\n",
       "13         31150                           Zoolander          3\n",
       "14         20424                             The Fly          7\n",
       "15         30597                             Clerks.          5\n",
       "16         19953                      The Full Monty          7\n",
       "17         30526                        Total Recall          7\n",
       "18         25440                              Carrie          7"
      ]
     },
     "execution_count": 12,
     "metadata": {},
     "output_type": "execute_result"
    }
   ],
   "source": [
    "final_table(\"Haessar\",20)"
   ]
  },
  {
   "cell_type": "code",
   "execution_count": 6,
   "metadata": {
    "collapsed": false
   },
   "outputs": [
    {
     "name": "stdout",
     "output_type": "stream",
     "text": [
      "There are 3 users in the database: \n",
      "James88_checklist.csv\n",
      "Haessar_checklist.csv\n",
      "hermesmovies_checklist.csv\n"
     ]
    },
    {
     "ename": "NameError",
     "evalue": "global name 'club1_list' is not defined",
     "output_type": "error",
     "traceback": [
      "\u001b[0;31m---------------------------------------------------------------------------\u001b[0m",
      "\u001b[0;31mNameError\u001b[0m                                 Traceback (most recent call last)",
      "\u001b[0;32m<ipython-input-6-94022b2c542d>\u001b[0m in \u001b[0;36m<module>\u001b[0;34m()\u001b[0m\n\u001b[0;32m----> 1\u001b[0;31m \u001b[0mListmaker_pro\u001b[0m\u001b[0;34m(\u001b[0m\u001b[0;34m'hermesmovies'\u001b[0m\u001b[0;34m,\u001b[0m\u001b[0;34m'1xdavex1'\u001b[0m\u001b[0;34m,\u001b[0m\u001b[0;34m'James88'\u001b[0m\u001b[0;34m,\u001b[0m\u001b[0;34m'Haessar'\u001b[0m\u001b[0;34m)\u001b[0m\u001b[0;34m\u001b[0m\u001b[0m\n\u001b[0m",
      "\u001b[0;32m<ipython-input-5-b9a199026b9b>\u001b[0m in \u001b[0;36mListmaker_pro\u001b[0;34m(usr1, pssword, *usrs)\u001b[0m\n\u001b[1;32m    133\u001b[0m     \u001b[0mclub2_list\u001b[0m\u001b[0;34m=\u001b[0m\u001b[0mprocess_club_list\u001b[0m\u001b[0;34m(\u001b[0m\u001b[0muser2_list\u001b[0m\u001b[0;34m,\u001b[0m\u001b[0mseenby_1_3\u001b[0m\u001b[0;34m)\u001b[0m\u001b[0;34m\u001b[0m\u001b[0m\n\u001b[1;32m    134\u001b[0m     \u001b[0mclub3_list\u001b[0m\u001b[0;34m=\u001b[0m\u001b[0mprocess_club_list\u001b[0m\u001b[0;34m(\u001b[0m\u001b[0muser3_list\u001b[0m\u001b[0;34m,\u001b[0m\u001b[0mseenby_1_2\u001b[0m\u001b[0;34m)\u001b[0m\u001b[0;34m\u001b[0m\u001b[0m\n\u001b[0;32m--> 135\u001b[0;31m     \u001b[0mfinal_table\u001b[0m\u001b[0;34m(\u001b[0m\u001b[0musr1\u001b[0m\u001b[0;34m,\u001b[0m\u001b[0;36m20\u001b[0m\u001b[0;34m)\u001b[0m\u001b[0;34m\u001b[0m\u001b[0m\n\u001b[0m",
      "\u001b[0;32m<ipython-input-5-b9a199026b9b>\u001b[0m in \u001b[0;36mfinal_table\u001b[0;34m(username, length)\u001b[0m\n\u001b[1;32m     92\u001b[0m \u001b[0;34m\u001b[0m\u001b[0m\n\u001b[1;32m     93\u001b[0m \u001b[0;32mdef\u001b[0m \u001b[0mfinal_table\u001b[0m\u001b[0;34m(\u001b[0m\u001b[0musername\u001b[0m\u001b[0;34m,\u001b[0m\u001b[0mlength\u001b[0m\u001b[0;34m)\u001b[0m\u001b[0;34m:\u001b[0m\u001b[0;34m\u001b[0m\u001b[0m\n\u001b[0;32m---> 94\u001b[0;31m     \u001b[0mby_checked\u001b[0m\u001b[0;34m=\u001b[0m\u001b[0mclub1_list\u001b[0m\u001b[0;34m.\u001b[0m\u001b[0msort\u001b[0m\u001b[0;34m(\u001b[0m\u001b[0;34m[\u001b[0m\u001b[0;34m'most_checked'\u001b[0m\u001b[0;34m]\u001b[0m\u001b[0;34m,\u001b[0m\u001b[0mascending\u001b[0m\u001b[0;34m=\u001b[0m\u001b[0mFalse\u001b[0m\u001b[0;34m)\u001b[0m\u001b[0;34m\u001b[0m\u001b[0m\n\u001b[0m\u001b[1;32m     95\u001b[0m     \u001b[0mby_toplists\u001b[0m\u001b[0;34m=\u001b[0m\u001b[0mclub1_list\u001b[0m\u001b[0;34m.\u001b[0m\u001b[0msort\u001b[0m\u001b[0;34m(\u001b[0m\u001b[0;34m[\u001b[0m\u001b[0;34m'top_lists'\u001b[0m\u001b[0;34m]\u001b[0m\u001b[0;34m,\u001b[0m\u001b[0mascending\u001b[0m\u001b[0;34m=\u001b[0m\u001b[0mFalse\u001b[0m\u001b[0;34m)\u001b[0m\u001b[0;34m\u001b[0m\u001b[0m\n\u001b[1;32m     96\u001b[0m     \u001b[0mfinaldata\u001b[0m\u001b[0;34m=\u001b[0m\u001b[0mDataFrame\u001b[0m\u001b[0;34m(\u001b[0m\u001b[0mcolumns\u001b[0m\u001b[0;34m=\u001b[0m\u001b[0;34m(\u001b[0m\u001b[0;34m'most_checked'\u001b[0m\u001b[0;34m,\u001b[0m\u001b[0;34m'title'\u001b[0m\u001b[0;34m,\u001b[0m\u001b[0;34m'top_lists'\u001b[0m\u001b[0;34m)\u001b[0m\u001b[0;34m)\u001b[0m\u001b[0;34m\u001b[0m\u001b[0m\n",
      "\u001b[0;31mNameError\u001b[0m: global name 'club1_list' is not defined"
     ]
    }
   ],
   "source": [
    "Listmaker_pro('hermesmovies','1xdavex1','James88','Haessar')"
   ]
  },
  {
   "cell_type": "code",
   "execution_count": null,
   "metadata": {
    "collapsed": true
   },
   "outputs": [],
   "source": []
  }
 ],
 "metadata": {
  "kernelspec": {
   "display_name": "Python 2",
   "language": "python",
   "name": "python2"
  },
  "language_info": {
   "codemirror_mode": {
    "name": "ipython",
    "version": 2
   },
   "file_extension": ".py",
   "mimetype": "text/x-python",
   "name": "python",
   "nbconvert_exporter": "python",
   "pygments_lexer": "ipython2",
   "version": "2.7.9"
  }
 },
 "nbformat": 4,
 "nbformat_minor": 0
}
