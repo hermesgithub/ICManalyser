{
 "cells": [
  {
   "cell_type": "code",
<<<<<<< HEAD
   "execution_count": 1,
=======
   "execution_count": 25,
>>>>>>> 3d952a6a607eecf0c5c2eee51d60a85bd2015812
   "metadata": {
    "collapsed": false
   },
   "outputs": [],
   "source": [
    "import requests\n",
    "import csv \n",
    "from collections import Counter\n",
    "from pandas import *\n",
    "\n",
    "listoffiles=[]\n",
    "listoffilmnames=[]\n",
    "        \n",
    "def is_number(s):\n",
    "    try:\n",
    "        float(s)\n",
    "        return True\n",
    "    except ValueError:\n",
    "        return False \n",
    "    \n",
    "def csvgetter(user,password,*otherusernames):\n",
    "    s=requests.session()  #this is the data that is sent to login to icheckmovies\n",
    "    login_data={'login[username]': user,'login[password]': password,'submit': 'login',} #send the login data\n",
    "    s.post(\"https://www.icheckmovies.com/login/\", data=login_data) #csv link 'r'\n",
    "    usernames_list=list(otherusernames)\n",
    "    usernames_list.append(user)\n",
    "    for item in usernames_list:\n",
    "        url='https://www.icheckmovies.com/movies/checked/?user='+item+'&export'\n",
    "        r=s.get(url)\n",
    "        checklist=r.text\n",
    "        checklist_encode = checklist.encode('utf-8')\n",
    "        filename=item+'_checklist'+'.csv'\n",
    "        file=open(filename, \"w\")\n",
    "        file.write(checklist_encode)\n",
    "        file.close() \n",
    "        listoffiles.append(filename)\n",
    "    numberofusers=str((len(listoffiles)))\n",
    "    #print('There are '+numberofusers+' users in the database: '+'\\n'+'\\n'.join(listoffiles))\n",
    "    \n",
    "def listmaker(username):\n",
    "    filmlist=[]\n",
    "    toplist=[]\n",
    "    mostchecked=[]\n",
    "    csvname=username+\"_checklist.csv\"\n",
    "    csv_reader = csv.reader(open(csvname, \"rb\"), delimiter=';')\n",
    "    for row in csv_reader:\n",
    "        filmlist.append(row[0])\n",
    "        mostcheckednum=row[3]\n",
    "        if is_number(mostcheckednum) is True:\n",
    "            mostcheckednum=int(row[3])\n",
    "        mostchecked.append(mostcheckednum)\n",
    "        toplistnum=row[5]\n",
    "        if is_number(toplistnum) is True:\n",
    "            toplistnum=int(row[5])\n",
    "        toplist.append(toplistnum)        \n",
    "    filmlist.pop(0)\n",
    "    mostchecked.pop(0)\n",
    "    toplist.pop(0)\n",
    "    compiled_dataframe={'title' : filmlist,\n",
    "            'most_checked': mostchecked,\n",
    "            'top_lists': toplist}\n",
    "    userlist=DataFrame(compiled_dataframe)\n",
    "    return(userlist)\n",
    "\n",
    "def multiname(*usernames):\n",
    "    for name in usernames:\n",
    "        listmaker(name)\n",
    "        listoffilmnames.append(filmlist)\n",
    "        print(name)\n",
    "\n",
    "def process_club_list(user_list,others):\n",
    "    merge_frames = others.merge(user_list,on=['title','most_checked'],how='left')\n",
    "    not_same_titles = merge_frames[merge_frames.top_lists_y.isnull()]\n",
    "    del not_same_titles['top_lists_y']\n",
    "    not_same_titles.columns=['most_checked', 'title', 'top_lists']\n",
    "    return(not_same_titles)\n",
    "\n",
    "def isinlist(fromlist,tolist):\n",
    "    fromlist=fromlist['title'].tolist()\n",
    "    tolist=tolist['title'].tolist()\n",
    "    if set(fromlist).issubset(set(tolist)):\n",
    "        return True\n",
    "    else:\n",
    "        return False\n",
    "    \n",
    "def iseven(number):\n",
    "    if number %2==0:\n",
    "        return True\n",
    "    else:\n",
    "        return False\n",
    "\n",
    "def lookupinlist(newtitle):\n",
    "    if newframe.loc[newframe['title'] == newtitle]:\n",
    "        return True\n",
    "    else:\n",
    "        return False\n",
    "\n",
    "def final_table(club_list,length):\n",
    "    by_checked=club_list.sort(['most_checked'],ascending=False)\n",
    "    by_toplists=club_list.sort(['top_lists'],ascending=False)\n",
    "    finaldata=DataFrame(columns=('most_checked','title','top_lists'))\n",
    "    for counter in range(0, length):\n",
    "        if iseven(counter) is True:\n",
    "            rec = by_checked.iloc[[counter/2]]\n",
    "            if counter == 0:\n",
    "                finaldata=finaldata.append(rec,ignore_index=True)\n",
    "            else:\n",
    "                if isinlist(rec,finaldata) is True:\n",
    "                    continue\n",
    "                else:\n",
    "                    finaldata=finaldata.append(rec,ignore_index=True)\n",
    "        else:\n",
    "            rec = by_toplists.iloc[[(counter-1)/2]]\n",
    "            if isinlist(rec,finaldata) is True:\n",
    "                continue\n",
    "            else:\n",
    "                finaldata=finaldata.append(rec,ignore_index=True)\n",
    "    return finaldata\n",
    "\n",
    "\n",
    "#this is working on a function that will do everything\n",
    "def Listmaker_pro(usr1,out,*usrs):\n",
    "    username1=usr1\n",
    "    username2=usrs[0]\n",
    "    username3=usrs[1]\n",
    "    pw=open('password.txt','r')\n",
    "    password=pw.read()\n",
    "    csvgetter(username1,password,username2,username3)\n",
    "    user1_list=listmaker(username1)\n",
    "    user2_list=listmaker(username2)\n",
    "    user3_list=listmaker(username3)\n",
    "    combo_1_2=user1_list.append(user2_list)\n",
    "    seenby_1_2=combo_1_2[combo_1_2.duplicated('title')==True]\n",
    "    combo_1_3=user1_list.append(user3_list)\n",
    "    seenby_1_3=combo_1_3[combo_1_3.duplicated('title')==True]\n",
    "    combo_2_3=user2_list.append(user3_list)\n",
    "    seenby_2_3=combo_2_3[combo_2_3.duplicated('title')==True] \n",
    "    club1_list=process_club_list(user1_list,seenby_2_3) \n",
    "    club2_list=process_club_list(user2_list,seenby_1_3)\n",
    "    club3_list=process_club_list(user3_list,seenby_1_2)\n",
<<<<<<< HEAD
    "    output1=final_table(club1_list,20)\n",
    "    output2=final_table(club2_list,20)\n",
    "    output3=final_table(club3_list,20)\n",
    "    return output1\n",
    "    return output2\n",
    "    return output3"
=======
    "    if out == 2:\n",
    "        output=final_table(club2_list,20)\n",
    "    elif out == 3:\n",
    "        output=final_table(club3_list,20)\n",
    "    else:\n",
    "        output=final_table(club1_list,20)        \n",
    "    return output"
>>>>>>> 3d952a6a607eecf0c5c2eee51d60a85bd2015812
   ]
  },
  {
   "cell_type": "code",
<<<<<<< HEAD
   "execution_count": 5,
=======
   "execution_count": 28,
>>>>>>> 3d952a6a607eecf0c5c2eee51d60a85bd2015812
   "metadata": {
    "collapsed": false
   },
   "outputs": [
    {
<<<<<<< HEAD
     "name": "stdout",
     "output_type": "stream",
     "text": [
      "There are 9 users in the database: \n",
      "Haessar_checklist.csv\n",
      "James88_checklist.csv\n",
      "hermesmovies_checklist.csv\n",
      "Haessar_checklist.csv\n",
      "James88_checklist.csv\n",
      "hermesmovies_checklist.csv\n",
      "Haessar_checklist.csv\n",
      "James88_checklist.csv\n",
      "hermesmovies_checklist.csv\n"
     ]
    }
   ],
   "source": [
    "listus=Listmaker_pro('hermesmovies','Haessar','James88')"
   ]
  },
  {
   "cell_type": "code",
   "execution_count": 6,
   "metadata": {
    "collapsed": false
   },
   "outputs": [
    {
     "name": "stdout",
     "output_type": "stream",
     "text": [
      "    most_checked                               title  top_lists\n",
      "0          42306                            Twilight          1\n",
      "1          10371                      The Wicker Man         12\n",
      "2          40306                       Sleepy Hollow          3\n",
      "3          15991                    12 Years a Slave         12\n",
      "4          36836                             Twister          2\n",
      "5          35589                          The Others          6\n",
      "6          26329              Låt den rätte komma in         12\n",
      "7          34511                            Face/Off          4\n",
      "8           6588                        Withnail & I         11\n",
      "9          33617  Terminator 3: Rise of the Machines          1\n",
      "10         23016                      Eyes Wide Shut         10\n",
      "11         33511                            Godzilla          1\n",
      "12         25688       The Rocky Horror Picture Show          9\n",
      "13         31189                           Zoolander          3\n",
      "14         20445                             The Fly          7\n",
      "15         30637                             Clerks.          5\n",
      "16         19962                      The Full Monty          7\n",
      "17         30566                        Total Recall          7\n",
      "18         25462                              Carrie          7\n"
     ]
    }
   ],
   "source": [
    "print(listus)"
   ]
  },
  {
   "cell_type": "code",
   "execution_count": 39,
   "metadata": {
    "collapsed": false
   },
   "outputs": [],
   "source": [
    "nus=listus\n",
    "check=nus.to_html()\n",
    "newone=check.encode('utf-8')"
   ]
  },
  {
   "cell_type": "code",
   "execution_count": 45,
   "metadata": {
    "collapsed": false
   },
   "outputs": [
    {
     "data": {
      "text/plain": [
       "(221, '2.0.0 closing connection b137sm6272379qhc.18 - gsmtp')"
      ]
     },
     "execution_count": 45,
=======
     "data": {
      "text/html": [
       "<div style=\"max-height:1000px;max-width:1500px;overflow:auto;\">\n",
       "<table border=\"1\" class=\"dataframe\">\n",
       "  <thead>\n",
       "    <tr style=\"text-align: right;\">\n",
       "      <th></th>\n",
       "      <th>most_checked</th>\n",
       "      <th>title</th>\n",
       "      <th>top_lists</th>\n",
       "    </tr>\n",
       "  </thead>\n",
       "  <tbody>\n",
       "    <tr>\n",
       "      <th>0 </th>\n",
       "      <td> 70002</td>\n",
       "      <td>       A Clockwork Orange</td>\n",
       "      <td> 30</td>\n",
       "    </tr>\n",
       "    <tr>\n",
       "      <th>1 </th>\n",
       "      <td> 56454</td>\n",
       "      <td>                     Léon</td>\n",
       "      <td> 18</td>\n",
       "    </tr>\n",
       "    <tr>\n",
       "      <th>2 </th>\n",
       "      <td> 52902</td>\n",
       "      <td>               Zombieland</td>\n",
       "      <td>  2</td>\n",
       "    </tr>\n",
       "    <tr>\n",
       "      <th>3 </th>\n",
       "      <td> 31645</td>\n",
       "      <td>                 Magnolia</td>\n",
       "      <td> 16</td>\n",
       "    </tr>\n",
       "    <tr>\n",
       "      <th>4 </th>\n",
       "      <td> 51957</td>\n",
       "      <td>      Night at the Museum</td>\n",
       "      <td>  2</td>\n",
       "    </tr>\n",
       "    <tr>\n",
       "      <th>5 </th>\n",
       "      <td> 13141</td>\n",
       "      <td> The Manchurian Candidate</td>\n",
       "      <td> 16</td>\n",
       "    </tr>\n",
       "    <tr>\n",
       "      <th>6 </th>\n",
       "      <td> 50610</td>\n",
       "      <td>                 Rain Man</td>\n",
       "      <td> 14</td>\n",
       "    </tr>\n",
       "    <tr>\n",
       "      <th>7 </th>\n",
       "      <td> 33069</td>\n",
       "      <td>       Planet of the Apes</td>\n",
       "      <td> 15</td>\n",
       "    </tr>\n",
       "    <tr>\n",
       "      <th>8 </th>\n",
       "      <td> 50580</td>\n",
       "      <td>           Twelve Monkeys</td>\n",
       "      <td> 14</td>\n",
       "    </tr>\n",
       "    <tr>\n",
       "      <th>9 </th>\n",
       "      <td> 49561</td>\n",
       "      <td>         Meet the Fockers</td>\n",
       "      <td>  2</td>\n",
       "    </tr>\n",
       "    <tr>\n",
       "      <th>10</th>\n",
       "      <td> 49506</td>\n",
       "      <td>             Pretty Woman</td>\n",
       "      <td>  7</td>\n",
       "    </tr>\n",
       "    <tr>\n",
       "      <th>11</th>\n",
       "      <td> 30190</td>\n",
       "      <td>                  RoboCop</td>\n",
       "      <td> 12</td>\n",
       "    </tr>\n",
       "    <tr>\n",
       "      <th>12</th>\n",
       "      <td> 48732</td>\n",
       "      <td>           Ocean's Twelve</td>\n",
       "      <td>  2</td>\n",
       "    </tr>\n",
       "    <tr>\n",
       "      <th>13</th>\n",
       "      <td> 47035</td>\n",
       "      <td>        The Mummy Returns</td>\n",
       "      <td>  2</td>\n",
       "    </tr>\n",
       "    <tr>\n",
       "      <th>14</th>\n",
       "      <td> 23334</td>\n",
       "      <td>                  Gravity</td>\n",
       "      <td> 11</td>\n",
       "    </tr>\n",
       "  </tbody>\n",
       "</table>\n",
       "</div>"
      ],
      "text/plain": [
       "    most_checked                     title  top_lists\n",
       "0          70002        A Clockwork Orange         30\n",
       "1          56454                      LÃ©on         18\n",
       "2          52902                Zombieland          2\n",
       "3          31645                  Magnolia         16\n",
       "4          51957       Night at the Museum          2\n",
       "5          13141  The Manchurian Candidate         16\n",
       "6          50610                  Rain Man         14\n",
       "7          33069        Planet of the Apes         15\n",
       "8          50580            Twelve Monkeys         14\n",
       "9          49561          Meet the Fockers          2\n",
       "10         49506              Pretty Woman          7\n",
       "11         30190                   RoboCop         12\n",
       "12         48732            Ocean's Twelve          2\n",
       "13         47035         The Mummy Returns          2\n",
       "14         23334                   Gravity         11"
      ]
     },
     "execution_count": 28,
>>>>>>> 3d952a6a607eecf0c5c2eee51d60a85bd2015812
     "metadata": {},
     "output_type": "execute_result"
    }
   ],
   "source": [
<<<<<<< HEAD
    "emailpw=open('emailpw','r')\n",
    "pwdmail=emailpw.read()\n",
    "\n",
    "import smtplib\n",
    "from email.mime.text import MIMEText \n",
    "\n",
    "msg=MIMEText(newone, 'html')\n",
    "fromaddr = 'ICMmovielist@gmail.com'\n",
    "toaddrs  = '@gmail.com'\n",
    "\n",
    "\n",
    "username = 'ICMmovielist'\n",
    "\n",
    "server = smtplib.SMTP('smtp.gmail.com:587')\n",
    "server.starttls()\n",
    "server.login(username,pwdmail)\n",
    "server.sendmail(fromaddr, toaddrs, msg.as_string())\n",
    "server.quit() "
=======
    "Listmaker_pro('Haessar',1,'James88','hermesmovies')"
>>>>>>> 3d952a6a607eecf0c5c2eee51d60a85bd2015812
   ]
  },
  {
   "cell_type": "code",
   "execution_count": null,
   "metadata": {
    "collapsed": true
   },
   "outputs": [],
<<<<<<< HEAD
   "source": []
  },
  {
   "cell_type": "code",
   "execution_count": null,
   "metadata": {
    "collapsed": true
   },
   "outputs": [],
   "source": []
=======
   "source": [
    "class User:\n",
    "    "
   ]
>>>>>>> 3d952a6a607eecf0c5c2eee51d60a85bd2015812
  }
 ],
 "metadata": {
  "kernelspec": {
   "display_name": "Python 2",
   "language": "python",
   "name": "python2"
  },
  "language_info": {
   "codemirror_mode": {
    "name": "ipython",
    "version": 2
   },
   "file_extension": ".py",
   "mimetype": "text/x-python",
   "name": "python",
   "nbconvert_exporter": "python",
   "pygments_lexer": "ipython2",
   "version": "2.7.9"
  }
 },
 "nbformat": 4,
 "nbformat_minor": 0
}
