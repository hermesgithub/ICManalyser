{
 "cells": [
  {
   "cell_type": "code",
   "execution_count": 1,
   "metadata": {
    "collapsed": true
   },
   "outputs": [],
   "source": [
    "import requests\n",
    "import csv \n",
    "from collections import Counter\n",
    "from pandas import *"
   ]
  },
  {
   "cell_type": "code",
   "execution_count": 172,
   "metadata": {
    "collapsed": false
   },
   "outputs": [],
   "source": [
    "listoffiles=[]\n",
    "listoffilmnames=[]\n",
    "        \n",
    "def is_number(s):\n",
    "    try:\n",
    "        float(s)\n",
    "        return True\n",
    "    except ValueError:\n",
    "        return False \n",
    "    \n",
    "def csvgetter(user,password,*otherusernames):\n",
    "    s=requests.session()  #this is the data that is sent to login to icheckmovies\n",
    "    login_data={'login[username]': user,'login[password]': password,'submit': 'login',} #send the login data\n",
    "    s.post(\"https://www.icheckmovies.com/login/\", data=login_data) #csv link 'r'\n",
    "    usernames_list=list(otherusernames)\n",
    "    usernames_list.append(user)\n",
    "    for item in usernames_list:\n",
    "        url='https://www.icheckmovies.com/movies/checked/?user='+item+'&export'\n",
    "        r=s.get(url)\n",
    "        checklist=r.text\n",
    "        checklist_encode = checklist.encode('utf-8')\n",
    "        filename=item+'_checklist'+'.csv'\n",
    "        file=open(filename, \"w\")\n",
    "        file.write(checklist_encode)\n",
    "        file.close() \n",
    "        listoffiles.append(filename)\n",
    "    numberofusers=str((len(listoffiles)))\n",
    "    print('There are '+numberofusers+' users in the database: '+'\\n'+'\\n'.join(listoffiles))\n",
    "    \n",
    "def listmaker(username):\n",
    "    filmlist=[]\n",
    "    toplist=[]\n",
    "    mostchecked=[]\n",
    "    csvname=username+\"_checklist.csv\"\n",
    "    csv_reader = csv.reader(open(csvname, \"rb\"), delimiter=';')\n",
    "    for row in csv_reader:\n",
    "        filmlist.append(row[0])\n",
    "        mostcheckednum=row[3]\n",
    "        if is_number(mostcheckednum) is True:\n",
    "            mostcheckednum=int(row[3])\n",
    "        mostchecked.append(mostcheckednum)\n",
    "        toplistnum=row[5]\n",
    "        if is_number(toplistnum) is True:\n",
    "            toplistnum=int(row[5])\n",
    "        toplist.append(toplistnum)        \n",
    "    filmlist.pop(0)\n",
    "    mostchecked.pop(0)\n",
    "    toplist.pop(0)\n",
    "    compiled_dataframe={'title' : filmlist,\n",
    "            'most_checked': mostchecked,\n",
    "            'top_lists': toplist}\n",
    "    userlist=DataFrame(compiled_dataframe)\n",
    "    return(userlist)\n",
    "\n",
    "def multiname(*usernames):\n",
    "    for name in usernames:\n",
    "        listmaker(name)\n",
    "        listoffilmnames.append(filmlist)\n",
    "        print(name)\n",
    "\n",
    "def process_club_list(user_list,others):\n",
    "    merge_frames = others.merge(user_list,on=['title','most_checked'],how='left')\n",
    "    not_same_titles = merge_frames[merge_frames.top_lists_y.isnull()]\n",
    "    del not_same_titles['top_lists_y']\n",
    "    not_same_titles.columns=['most_checked', 'title', 'top_lists']\n",
    "    return(not_same_titles)\n",
    "\n",
    "def isinlist(fromlist,tolist):\n",
    "    fromlist=fromlist['title'].tolist()\n",
    "    tolist=tolist['title'].tolist()\n",
    "    if set(fromlist).issubset(set(tolist)):\n",
    "        return True\n",
    "    else:\n",
    "        return False\n",
    "    \n",
    "def iseven(number):\n",
    "    if number %2==0:\n",
    "        return True\n",
    "    else:\n",
    "        return False\n",
    "\n",
    "def lookupinlist(newtitle):\n",
    "    if newframe.loc[newframe['title'] == newtitle]:\n",
    "        return True\n",
    "    else:\n",
    "        return False\n",
    "\n",
    "def final_table(username,length):\n",
    "    by_checked=club1_list.sort(['most_checked'],ascending=False)\n",
    "    by_toplists=club1_list.sort(['top_lists'],ascending=False)\n",
    "    finaldata=DataFrame(columns=('most_checked','title','top_lists'))\n",
    "    for counter in range(0, length):\n",
    "        if iseven(counter) is True:\n",
    "            rec = by_checked.iloc[[counter/2]]\n",
    "            if counter == 0:\n",
    "                finaldata=finaldata.append(rec,ignore_index=True)\n",
    "            else:\n",
    "                if isinlist(rec,finaldata) is True:\n",
    "                    continue\n",
    "                else:\n",
    "                    finaldata=finaldata.append(rec,ignore_index=True)\n",
    "        else:\n",
    "            rec = by_toplists.iloc[[(counter-1)/2]]\n",
    "            if isinlist(rec,finaldata) is True:\n",
    "                continue\n",
    "            else:\n",
    "                finaldata=finaldata.append(rec,ignore_index=True)\n",
    "    return finaldata\n",
    "\n",
    "\n",
    "\n",
    "\n",
    "#this is working on a function that will do everything\n",
    "def Listmaker_pro(usr1,pssword,*usrs):\n",
    "    username1=usr1\n",
    "    username2=usrs[0]\n",
    "    username3=usrs[1]\n",
    "    password=pssword\n",
    "    csvgetter(username1,password,username2,username3)\n",
    "    user1_list=listmaker(username1)\n",
    "    user2_list=listmaker(username2)\n",
    "    user3_list=listmaker(username3)\n",
    "    combo_1_2=user1_list.append(user2_list)\n",
    "    seenby_1_2=combo_1_2[combo_1_2.duplicated('title')==True]\n",
    "    combo_1_3=user1_list.append(user3_list)\n",
    "    seenby_1_3=combo_1_3[combo_1_3.duplicated('title')==True]\n",
    "    combo_2_3=user2_list.append(user3_list)\n",
    "    seenby_2_3=combo_2_3[combo_2_3.duplicated('title')==True] \n",
    "    club1_list = process_club_list(user1_list,seenby_2_3) \n",
    "    club2_list = process_club_list(user2_list,seenby_1_3)\n",
    "    club3_list = process_club_list(user3_list,seenby_1_2)"
   ]
  },
  {
   "cell_type": "code",
   "execution_count": 5,
   "metadata": {
    "collapsed": true
   },
   "outputs": [],
   "source": [
    "username1='Haessar'\n",
    "username2='hermesmovies'\n",
    "username3='James88'\n",
    "password=''"
   ]
  },
  {
   "cell_type": "code",
   "execution_count": 6,
   "metadata": {
    "collapsed": false
   },
   "outputs": [
    {
     "name": "stdout",
     "output_type": "stream",
     "text": [
      "There are 3 users in the database: \n",
      "hermesmovies_checklist.csv\n",
      "James88_checklist.csv\n",
      "Haessar_checklist.csv\n"
     ]
    }
   ],
   "source": [
    "csvgetter(username1,password,username2,username3)"
   ]
  },
  {
   "cell_type": "code",
   "execution_count": 7,
   "metadata": {
    "collapsed": false
   },
   "outputs": [
    {
     "name": "stdout",
     "output_type": "stream",
     "text": [
      "user1 is Haessar, user2 is hermesmovies and user3 is James88, user#_list is a dataframe of each users list\n"
     ]
    }
   ],
   "source": [
    "user1_list=listmaker(username1)\n",
    "user2_list=listmaker(username2)\n",
    "user3_list=listmaker(username3)\n",
    "print(\"user1 is \"+username1+\", user2 is \"+username2+\" and user3 is \"+username3+\", user#_list is a dataframe of each users list\")"
   ]
  },
  {
   "cell_type": "code",
   "execution_count": 168,
   "metadata": {
    "collapsed": false
   },
   "outputs": [
    {
     "name": "stdout",
     "output_type": "stream",
     "text": [
      "Haessar\n"
     ]
    }
   ],
   "source": [
    "print(username1)"
   ]
  },
  {
   "cell_type": "markdown",
   "metadata": {
    "collapsed": false
   },
   "source": [
    "Want to make a list that both james and will have seen that I haven't seen"
   ]
  },
  {
   "cell_type": "code",
   "execution_count": 8,
   "metadata": {
    "collapsed": false
   },
   "outputs": [],
   "source": [
    "#join User 1 and User 2\n",
    "combo_1_2=user1_list.append(user2_list)\n",
    "#return duplicates\n",
    "seenby_1_2=combo_1_2[combo_1_2.duplicated('title')==True]\n",
    "\n",
    "#join User 1 and User 3\n",
    "combo_1_3=user1_list.append(user3_list)\n",
    "seenby_1_3=combo_1_3[combo_1_3.duplicated('title')==True]\n",
    "\n",
    "#join User 2 and User 3\n",
    "combo_2_3=user2_list.append(user3_list)\n",
    "seenby_2_3=combo_2_3[combo_2_3.duplicated('title')==True] "
   ]
  },
  {
   "cell_type": "code",
   "execution_count": 9,
   "metadata": {
    "collapsed": false
   },
   "outputs": [],
   "source": [
    "#Club list for User 1:\n",
    "club1_list = process_club_list(user1_list,seenby_2_3) \n",
    "\n",
    "#Club list for User 2:\n",
    "club2_list = process_club_list(user2_list,seenby_1_3)\n",
    "\n",
    "#Club list for User 3:\n",
    "club3_list = process_club_list(user3_list,seenby_1_2)"
   ]
  },
  {
   "cell_type": "code",
   "execution_count": 177,
   "metadata": {
    "collapsed": false
   },
   "outputs": [
    {
     "data": {
      "text/html": [
       "<div style=\"max-height:1000px;max-width:1500px;overflow:auto;\">\n",
       "<table border=\"1\" class=\"dataframe\">\n",
       "  <thead>\n",
       "    <tr style=\"text-align: right;\">\n",
       "      <th></th>\n",
       "      <th>most_checked</th>\n",
       "      <th>title</th>\n",
       "      <th>top_lists</th>\n",
       "    </tr>\n",
       "  </thead>\n",
       "  <tbody>\n",
       "    <tr>\n",
       "      <th>0 </th>\n",
       "      <td> 56384</td>\n",
       "      <td>                           Léon</td>\n",
       "      <td> 18</td>\n",
       "    </tr>\n",
       "    <tr>\n",
       "      <th>1 </th>\n",
       "      <td> 52846</td>\n",
       "      <td>                     Zombieland</td>\n",
       "      <td>  2</td>\n",
       "    </tr>\n",
       "    <tr>\n",
       "      <th>2 </th>\n",
       "      <td> 31622</td>\n",
       "      <td>                       Magnolia</td>\n",
       "      <td> 16</td>\n",
       "    </tr>\n",
       "    <tr>\n",
       "      <th>3 </th>\n",
       "      <td> 51914</td>\n",
       "      <td>            Night at the Museum</td>\n",
       "      <td>  2</td>\n",
       "    </tr>\n",
       "    <tr>\n",
       "      <th>4 </th>\n",
       "      <td> 50563</td>\n",
       "      <td>                       Rain Man</td>\n",
       "      <td> 14</td>\n",
       "    </tr>\n",
       "    <tr>\n",
       "      <th>5 </th>\n",
       "      <td> 50525</td>\n",
       "      <td>                 Twelve Monkeys</td>\n",
       "      <td> 14</td>\n",
       "    </tr>\n",
       "    <tr>\n",
       "      <th>6 </th>\n",
       "      <td> 30150</td>\n",
       "      <td>                        RoboCop</td>\n",
       "      <td> 12</td>\n",
       "    </tr>\n",
       "    <tr>\n",
       "      <th>7 </th>\n",
       "      <td> 49529</td>\n",
       "      <td>               Meet the Fockers</td>\n",
       "      <td>  2</td>\n",
       "    </tr>\n",
       "    <tr>\n",
       "      <th>8 </th>\n",
       "      <td> 23256</td>\n",
       "      <td>                        Gravity</td>\n",
       "      <td> 11</td>\n",
       "    </tr>\n",
       "    <tr>\n",
       "      <th>9 </th>\n",
       "      <td> 49477</td>\n",
       "      <td>                   Pretty Woman</td>\n",
       "      <td>  7</td>\n",
       "    </tr>\n",
       "    <tr>\n",
       "      <th>10</th>\n",
       "      <td> 48695</td>\n",
       "      <td>                 Ocean's Twelve</td>\n",
       "      <td>  2</td>\n",
       "    </tr>\n",
       "    <tr>\n",
       "      <th>11</th>\n",
       "      <td>  9156</td>\n",
       "      <td>                       Election</td>\n",
       "      <td>  5</td>\n",
       "    </tr>\n",
       "    <tr>\n",
       "      <th>12</th>\n",
       "      <td> 47003</td>\n",
       "      <td>              The Mummy Returns</td>\n",
       "      <td>  2</td>\n",
       "    </tr>\n",
       "    <tr>\n",
       "      <th>13</th>\n",
       "      <td>  9297</td>\n",
       "      <td>                     Antichrist</td>\n",
       "      <td>  5</td>\n",
       "    </tr>\n",
       "    <tr>\n",
       "      <th>14</th>\n",
       "      <td> 44605</td>\n",
       "      <td> How the Grinch Stole Christmas</td>\n",
       "      <td>  2</td>\n",
       "    </tr>\n",
       "    <tr>\n",
       "      <th>15</th>\n",
       "      <td>  6076</td>\n",
       "      <td>                     Big Hero 6</td>\n",
       "      <td>  5</td>\n",
       "    </tr>\n",
       "  </tbody>\n",
       "</table>\n",
       "</div>"
      ],
      "text/plain": [
       "    most_checked                           title  top_lists\n",
       "0          56384                            LÃ©on         18\n",
       "1          52846                      Zombieland          2\n",
       "2          31622                        Magnolia         16\n",
       "3          51914             Night at the Museum          2\n",
       "4          50563                        Rain Man         14\n",
       "5          50525                  Twelve Monkeys         14\n",
       "6          30150                         RoboCop         12\n",
       "7          49529                Meet the Fockers          2\n",
       "8          23256                         Gravity         11\n",
       "9          49477                    Pretty Woman          7\n",
       "10         48695                  Ocean's Twelve          2\n",
       "11          9156                        Election          5\n",
       "12         47003               The Mummy Returns          2\n",
       "13          9297                      Antichrist          5\n",
       "14         44605  How the Grinch Stole Christmas          2\n",
       "15          6076                      Big Hero 6          5"
      ]
     },
     "execution_count": 177,
     "metadata": {},
     "output_type": "execute_result"
    }
   ],
   "source": [
    "final_table(\"Haessar\",20)"
   ]
  },
  {
   "cell_type": "code",
   "execution_count": null,
   "metadata": {
    "collapsed": true
   },
   "outputs": [],
   "source": []
  }
 ],
 "metadata": {
  "kernelspec": {
   "display_name": "Python 2",
   "language": "python",
   "name": "python2"
  },
  "language_info": {
   "codemirror_mode": {
    "name": "ipython",
    "version": 2
   },
   "file_extension": ".py",
   "mimetype": "text/x-python",
   "name": "python",
   "nbconvert_exporter": "python",
   "pygments_lexer": "ipython2",
   "version": "2.7.9"
  }
 },
 "nbformat": 4,
 "nbformat_minor": 0
}
